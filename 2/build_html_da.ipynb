{
 "cells": [
  {
   "cell_type": "code",
   "execution_count": 1,
   "metadata": {},
   "outputs": [],
   "source": [
    "metafile = open('meta_da.csv')\n",
    "data = []\n",
    "for line in metafile:\n",
    "    attr = line.rstrip().split('\\t')\n",
    "    assert(len(attr) == 9)\n",
    "    name, paper, code, inst, date, p1, p2, p3, p4 = attr\n",
    "    score = float(p1) + float(p2) + float(p3) + float(p4)\n",
    "    item = {'meta': [name, paper, code, inst, date, p1, p2, p3, p4], 'score': score}\n",
    "    data.append(item)"
   ]
  },
  {
   "cell_type": "code",
   "execution_count": 2,
   "metadata": {},
   "outputs": [],
   "source": [
    "data.sort(key=lambda x: x['score'], reverse=True)"
   ]
  },
  {
   "cell_type": "code",
   "execution_count": 3,
   "metadata": {},
   "outputs": [],
   "source": [
    "from bs4 import BeautifulSoup"
   ]
  },
  {
   "cell_type": "code",
   "execution_count": 4,
   "metadata": {},
   "outputs": [],
   "source": [
    "rank = 0\n",
    "s = ''\n",
    "for item in data:\n",
    "    name, paper, code, inst, date, p1, p2, p3, p4 = item['meta']\n",
    "    rank += 1\n",
    "    s += '<tr>'\n",
    "    s += '<th scope=\"row\">'\n",
    "    s += '<p>{}</p>'.format(rank)\n",
    "    s += '</th>'\n",
    "    s += '<td style=\"word-break:break-word;\">'\n",
    "    s += name\n",
    "    if len(paper) > 0:\n",
    "        s += '<a href=\"{}\">[paper]</a>'.format(paper)\n",
    "    if len(code) > 0:\n",
    "        s += '<a href=\"{}\">[code]</a>'.format(code)\n",
    "    s += '<br>'\n",
    "    s += '<strong>{}</strong>'.format(inst)\n",
    "    s += '<br>'\n",
    "    s += date\n",
    "    s += '</td>'\n",
    "    s += '<td>{}</td>'.format(p1)\n",
    "    s += '<td>{}</td>'.format(p2)\n",
    "    s += '<td>{}</td>'.format(p3)\n",
    "    s += '<td>{}</td>'.format(p4)\n",
    "    s += '</tr>'\n",
    "    #print(BeautifulSoup(s).prettify())\n",
    "    #htmlfile.write(s)"
   ]
  },
  {
   "cell_type": "code",
   "execution_count": 5,
   "metadata": {},
   "outputs": [
    {
     "name": "stdout",
     "output_type": "stream",
     "text": [
      "<tr><th scope=\"row\"><p>1</p></th><td style=\"word-break:break-word;\">DualGraph<br><strong>Anonymous</strong><br>(Aug 2, 2020)</td><td>80.11</td><td>91.01</td><td>73.89</td><td>82.34</td></tr><tr><th scope=\"row\"><p>2</p></th><td style=\"word-break:break-word;\">GPT<br><strong>Anonymous</strong><br>(Aug 15, 2020)</td><td>79.13</td><td>91.56</td><td>66.68</td><td>84.99</td></tr><tr><th scope=\"row\"><p>3</p></th><td style=\"word-break:break-word;\">PAMN<br><strong>Anonymous</strong><br>(Jun 8, 2020)</td><td>77.54</td><td>90.40</td><td>65.98</td><td>82.03</td></tr><tr><th scope=\"row\"><p>4</p></th><td style=\"word-break:break-word;\">Anonymous Pony<br><strong></strong><br>(Jan 17, 2020)</td><td>76.71</td><td>86.69</td><td>66.72</td><td>78.46</td></tr><tr><th scope=\"row\"><p>5</p></th><td style=\"word-break:break-word;\">Anonymous Python<br><strong></strong><br>(Dec 25, 2019)</td><td>66.41</td><td>83.52</td><td>51.85</td><td>73.60</td></tr><tr><th scope=\"row\"><p>6</p></th><td style=\"word-break:break-word;\">Anonymous Groundhog<br><strong></strong><br>(Dec 25, 2019)</td><td>67.23</td><td>82.09</td><td>54.32</td><td>71.01</td></tr><tr><th scope=\"row\"><p>7</p></th><td style=\"word-break:break-word;\">BERT-PAIR<a href=\"https://www.aclweb.org/anthology/D19-1649.pdf\">[paper]</a><a href=\"https://github.com/thunlp/fewrel\">[code]</a><br><strong>THUNLP, Tsinghua University</strong><br>(Nov 3, 2019)</td><td>67.41</td><td>78.57</td><td>54.89</td><td>66.85</td></tr><tr><th scope=\"row\"><p>8</p></th><td style=\"word-break:break-word;\">Proto-ADV (CNN)<a href=\"https://www.aclweb.org/anthology/D19-1649.pdf\">[paper]</a><a href=\"https://github.com/thunlp/fewrel\">[code]</a><br><strong>THUNLP, Tsinghua University</strong><br>(Nov 3, 2019)</td><td>42.21</td><td>58.71</td><td>28.91</td><td>44.35</td></tr><tr><th scope=\"row\"><p>9</p></th><td style=\"word-break:break-word;\">Proto-ADV (BERT)<a href=\"https://www.aclweb.org/anthology/D19-1649.pdf\">[paper]</a><a href=\"https://github.com/thunlp/fewrel\">[code]</a><br><strong>THUNLP, Tsinghua University</strong><br>(Nov 3, 2019)</td><td>41.90</td><td>54.74</td><td>27.36</td><td>37.40</td></tr><tr><th scope=\"row\"><p>10</p></th><td style=\"word-break:break-word;\">Proto-BERT<br><strong></strong><br>(Nov 3, 2019)</td><td>40.12</td><td>51.50</td><td>26.45</td><td>36.93</td></tr><tr><th scope=\"row\"><p>11</p></th><td style=\"word-break:break-word;\">Proto-CNN<br><strong></strong><br>(Nov 3, 2019)</td><td>35.09</td><td>49.37</td><td>22.98</td><td>35.22</td></tr>\n"
     ]
    }
   ],
   "source": [
    "print(s)"
   ]
  },
  {
   "cell_type": "code",
   "execution_count": null,
   "metadata": {},
   "outputs": [],
   "source": []
  }
 ],
 "metadata": {
  "kernelspec": {
   "display_name": "Python 3",
   "language": "python",
   "name": "python3"
  },
  "language_info": {
   "codemirror_mode": {
    "name": "ipython",
    "version": 3
   },
   "file_extension": ".py",
   "mimetype": "text/x-python",
   "name": "python",
   "nbconvert_exporter": "python",
   "pygments_lexer": "ipython3",
   "version": "3.7.3"
  }
 },
 "nbformat": 4,
 "nbformat_minor": 2
}
